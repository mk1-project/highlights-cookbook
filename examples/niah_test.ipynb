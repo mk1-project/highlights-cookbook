{
 "cells": [
  {
   "cell_type": "markdown",
   "metadata": {},
   "source": [
    "# Needle in a Haystack (NIAH) Testing Tutorial\n",
    "\n",
    "This notebook demonstrates how to use the NIAH Tester to evaluate the Highlights API's ability to find specific text (the needle) within a large collection of distractor texts (the haystack).\n",
    "\n",
    "## Setup\n",
    "\n",
    "First, we'll import the required libraries and the HighlightsClient from our previous example."
   ]
  },
  {
   "cell_type": "code",
   "execution_count": null,
   "metadata": {},
   "outputs": [],
   "source": [
    "!pip install datasets langchain_text_splitters openai PyPDF2\n",
    "\n",
    "from utils import NIAHTester\n",
    "from datasets import load_dataset"
   ]
  },
  {
   "cell_type": "markdown",
   "metadata": {},
   "source": [
    "## Running a Test\n",
    "\n",
    "Let's initialize our tester with an API key and run a test case. We'll use a text about transformer architectures as our needle."
   ]
  },
  {
   "cell_type": "code",
   "execution_count": 2,
   "metadata": {},
   "outputs": [],
   "source": [
    "# Initialize the tester\n",
    "tester = NIAHTester(api_key=\"YOUR_API_KEY\")\n",
    "\n",
    "# Define our test case\n",
    "needle = \"The best thing to do in San Francisco is eat a sandwhich and sit in Dolores Park on a sunny day. \"\n",
    "\n",
    "dataset = load_dataset(\"sgoel9/paul_graham_essays\", split=\"train\")\n",
    "datset_text = \"\".join(dataset[\"text\"])\n",
    "haystack_length = 20000\n",
    "haystack = datset_text[:haystack_length]\n",
    "\n",
    "query = \"What is the most fun thing to do in San Francisco based on the context?\"\n",
    "\n",
    "# Run the test\n",
    "results = tester.run_test(\n",
    "    needle=needle,\n",
    "    haystack=haystack,\n",
    "    query=query,\n",
    "    needle_position=haystack_length // 2, # random position\n",
    ")\n"
   ]
  },
  {
   "cell_type": "markdown",
   "metadata": {},
   "source": [
    "## Analyzing Results\n",
    "\n",
    "Now let's examine the results of our test in detail.\n",
    "\n",
    "The test results tell us:\n",
    "- Whether the API successfully found the needle text as the first result (`success`)\n",
    "- The total size of the haystack (`total_chunks`)\n",
    "- Additional metadata from the API response"
   ]
  },
  {
   "cell_type": "code",
   "execution_count": null,
   "metadata": {},
   "outputs": [],
   "source": [
    "print(\"NIAH Test Results:\")\n",
    "print(f\"Success: {results['success']}\")\n",
    "if results['matching_chunk_position'] is not None:\n",
    "    print(f\"Correct chunk found in top-{results['matching_chunk_position'] + 1} results\")\n",
    "    print(f\"Matching chunk: {results['matching_chunk']}\")\n",
    "\n",
    "else:\n",
    "    print(\"No correct chunk found in results\")\n",
    "\n",
    "print(f\"Total Chunks: {results['total_chunks']}\")\n",
    "print(\"\\nMetadata:\")\n",
    "print(results[\"metadata\"])"
   ]
  }
 ],
 "metadata": {
  "kernelspec": {
   "display_name": ".venv",
   "language": "python",
   "name": "python3"
  },
  "language_info": {
   "codemirror_mode": {
    "name": "ipython",
    "version": 3
   },
   "file_extension": ".py",
   "mimetype": "text/x-python",
   "name": "python",
   "nbconvert_exporter": "python",
   "pygments_lexer": "ipython3",
   "version": "3.10.12"
  }
 },
 "nbformat": 4,
 "nbformat_minor": 4
}
