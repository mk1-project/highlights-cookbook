{
 "cells": [
  {
   "cell_type": "markdown",
   "metadata": {},
   "source": [
    "# Needle in a Haystack (NIAH) Testing Tutorial\n",
    "\n",
    "This notebook demonstrates how to use the NIAH Tester to evaluate the Highlights API's ability to find specific text (the needle) within a large collection of distractor texts (the haystack).\n",
    "\n",
    "## Setup\n",
    "\n",
    "First, we'll import the required libraries and the HighlightsClient from our previous example."
   ]
  },
  {
   "cell_type": "code",
   "execution_count": 1,
   "metadata": {},
   "outputs": [],
   "source": [
    "import random\n",
    "from typing import List, Tuple\n",
    "from base_client import HighlightsClient\n",
    "from utils import NIAHTester"
   ]
  },
  {
   "cell_type": "markdown",
   "metadata": {},
   "source": [
    "## Running a Test\n",
    "\n",
    "Let's initialize our tester with an API key and run a test case. We'll use a text about transformer architectures as our needle."
   ]
  },
  {
   "cell_type": "code",
   "execution_count": null,
   "metadata": {},
   "outputs": [],
   "source": [
    "# Initialize the tester\n",
    "tester = NIAHTester(api_key=\"your-api-key\")\n",
    "\n",
    "# Define our test case\n",
    "needle = \"\"\"\n",
    "    The transformer architecture revolutionized natural language processing\n",
    "    by introducing self-attention mechanisms that can process sequential\n",
    "    data more effectively than previous approaches.\n",
    "\"\"\"\n",
    "\n",
    "query = \"How did transformers change NLP?\"\n",
    "\n",
    "# Run the test\n",
    "results = tester.run_test(\n",
    "    needle=needle,\n",
    "    query=query,\n",
    "    num_haystack_items=50\n",
    ")\n"
   ]
  },
  {
   "cell_type": "markdown",
   "metadata": {},
   "source": [
    "## Analyzing Results\n",
    "\n",
    "Now let's examine the results of our test in detail.\n",
    "\n",
    "The test results tell us:\n",
    "- Whether the API successfully found the needle text as the first result (`success`)\n",
    "- The total size of the haystack (`total_chunks`)\n",
    "- Additional metadata from the API response"
   ]
  },
  {
   "cell_type": "code",
   "execution_count": null,
   "metadata": {},
   "outputs": [],
   "source": [
    "print(\"NIAH Test Results:\")\n",
    "print(f\"Success: {results['success']}\")\n",
    "print(f\"Total Chunks: {results['total_chunks']}\")\n",
    "print(\"\\nMetadata:\")\n",
    "print(results[\"metadata\"])"
   ]
  }
 ],
 "metadata": {
  "kernelspec": {
   "display_name": "Python 3",
   "language": "python",
   "name": "python3"
  },
  "language_info": {
   "codemirror_mode": {
    "name": "ipython",
    "version": 3
   },
   "file_extension": ".py",
   "mimetype": "text/x-python",
   "name": "python",
   "nbconvert_exporter": "python",
   "pygments_lexer": "ipython3",
   "version": "3.10.12"
  }
 },
 "nbformat": 4,
 "nbformat_minor": 4
}
