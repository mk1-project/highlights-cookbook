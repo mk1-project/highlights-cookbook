{
 "cells": [
  {
   "cell_type": "markdown",
   "metadata": {},
   "source": [
    "# Needle in a Haystack (NIAH) Testing Tutorial\n",
    "\n",
    "This notebook demonstrates how to use the NIAH Tester to evaluate the Highlights API's ability to find specific text (the needle) within a large collection of distractor texts (the haystack). This type of testing is crucial for assessing the robustness and accuracy of semantic search systems.\n",
    "\n",
    "## Setup\n",
    "\n",
    "First, we'll import the required libraries and the HighlightsClient from our previous example."
   ]
  },
  {
   "cell_type": "code",
   "execution_count": null,
   "metadata": {},
   "outputs": [],
   "source": [
    "import random\n",
    "from typing import List, Tuple\n",
    "from examples.api_basics import HighlightsClient"
   ]
  },
  {
   "cell_type": "markdown",
   "metadata": {},
   "source": [
    "## NIAH Tester Class\n",
    "\n",
    "Below we define our NIAHTester class that will handle:\n",
    "1. Generating test data with distractors\n",
    "2. Running search tests\n",
    "3. Analyzing and reporting results"
   ]
  },
  {
   "cell_type": "code",
   "execution_count": null,
   "metadata": {},
   "outputs": [],
   "source": [
    "class NIAHTester:\n",
    "    def __init__(self, api_key: str):\n",
    "        self.client = HighlightsClient(api_key=api_key)\n",
    "\n",
    "    def generate_test_data(\n",
    "        self,\n",
    "        needle: str,\n",
    "        num_haystack_items: int = 100\n",
    "    ) -> Tuple[List[str], int]:\n",
    "        \"\"\"\n",
    "        Generate test data with a needle hidden in a haystack.\n",
    "\n",
    "        Args:\n",
    "            needle: The text to find\n",
    "            num_haystack_items: Number of distractor texts to generate\n",
    "\n",
    "        Returns:\n",
    "            Tuple of (list of text chunks, index of needle)\n",
    "        \"\"\"\n",
    "        # Generate distractor texts\n",
    "        haystack = [\n",
    "            f\"Distractor text number {i}: This is irrelevant content.\"\n",
    "            for i in range(num_haystack_items)\n",
    "        ]\n",
    "\n",
    "        # Insert needle at random position\n",
    "        needle_position = random.randint(0, len(haystack))\n",
    "        haystack.insert(needle_position, needle)\n",
    "\n",
    "        return haystack, needle_position\n",
    "\n",
    "    def run_test(\n",
    "        self,\n",
    "        needle: str,\n",
    "        query: str,\n",
    "        num_haystack_items: int = 100\n",
    "    ) -> dict:\n",
    "        \"\"\"\n",
    "        Run a needle-in-haystack test.\n",
    "\n",
    "        Args:\n",
    "            needle: The text to find\n",
    "            query: The search query\n",
    "            num_haystack_items: Number of distractor texts\n",
    "\n",
    "        Returns:\n",
    "            Dictionary containing test results\n",
    "        \"\"\"\n",
    "        # Generate test data\n",
    "        haystack, true_position = self.generate_test_data(\n",
    "            needle=needle,\n",
    "            num_haystack_items=num_haystack_items\n",
    "        )\n",
    "\n",
    "        # Perform search\n",
    "        results = self.client.search_text_chunks(\n",
    "            query=query,\n",
    "            text_chunks=haystack,\n",
    "            top_n=1\n",
    "        )\n",
    "\n",
    "        # Analyze results\n",
    "        found_position = None\n",
    "        if results[\"results\"]:\n",
    "            found_text = results[\"results\"][0][\"text\"]\n",
    "            if found_text == needle:\n",
    "                found_position = results[\"results\"][0].get(\"start_idx\")\n",
    "\n",
    "        return {\n",
    "            \"success\": found_position == true_position,\n",
    "            \"true_position\": true_position,\n",
    "            \"found_position\": found_position,\n",
    "            \"total_chunks\": len(haystack),\n",
    "            \"metadata\": results.get(\"metadata\", {})\n",
    "        }"
   ]
  },
  {
   "cell_type": "markdown",
   "metadata": {},
   "source": [
    "## Running a Test\n",
    "\n",
    "Let's initialize our tester with an API key and run a test case. We'll use a text about transformer architectures as our needle."
   ]
  },
  {
   "cell_type": "code",
   "execution_count": null,
   "metadata": {},
   "outputs": [],
   "source": [
    "# Initialize the tester\n",
    "tester = NIAHTester(api_key=\"your-api-key\")\n",
    "\n",
    "# Define our test case\n",
    "needle = \"\"\"\n",
    "    The transformer architecture revolutionized natural language processing\n",
    "    by introducing self-attention mechanisms that can process sequential\n",
    "    data more effectively than previous approaches.\n",
    "\"\"\"\n",
    "\n",
    "query = \"How did transformers change NLP?\"\n",
    "\n",
    "# Run the test\n",
    "results = tester.run_test(\n",
    "    needle=needle,\n",
    "    query=query,\n",
    "    num_haystack_items=50\n",
    ")"
   ]
  },
  {
   "cell_type": "markdown",
   "metadata": {},
   "source": [
    "## Analyzing Results\n",
    "\n",
    "Now let's examine the results of our test in detail."
   ]
  },
  {
   "cell_type": "code",
   "execution_count": null,
   "metadata": {},
   "outputs": [],
   "source": [
    "print(\"NIAH Test Results:\")\n",
    "print(f\"Success: {results['success']}\")\n",
    "print(f\"True Position: {results['true_position']}\")\n",
    "print(f\"Found Position: {results['found_position']}\")\n",
    "print(f\"Total Chunks: {results['total_chunks']}\")\n",
    "print(\"\\nMetadata:\")\n",
    "print(results[\"metadata\"])"
   ]
  },
  {
   "cell_type": "markdown",
   "metadata": {},
   "source": [
    "## Understanding the Results\n",
    "\n",
    "The test results tell us:\n",
    "- Whether the API successfully found the needle text (`success`)\n",
    "- Where the needle was actually placed (`true_position`)\n",
    "- Where the API found it (`found_position`)\n",
    "- The total size of the haystack (`total_chunks`)\n",
    "- Additional metadata from the API response\n"
   ]
  }
 ],
 "metadata": {
  "kernelspec": {
   "display_name": "Python 3",
   "language": "python",
   "name": "python3"
  },
  "language_info": {
   "codemirror_mode": {
    "name": "ipython",
    "version": 3
   },
   "file_extension": ".py",
   "mimetype": "text/x-python",
   "name": "python",
   "nbconvert_exporter": "python",
   "pygments_lexer": "ipython3",
   "version": "3.8.0"
  }
 },
 "nbformat": 4,
 "nbformat_minor": 4
}
