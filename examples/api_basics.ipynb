{
 "cells": [
  {
   "cell_type": "markdown",
   "metadata": {},
   "source": [
    "# Highlights API Client Tutorial\n",
    "\n",
    "This notebook demonstrates how to use the Highlights API client to perform semantic search across text chunks. The client allows you to find relevant passages from a collection of text based on a natural language query.\n",
    "\n",
    "## Setup\n",
    "\n",
    "First, we'll import the required libraries and define our client class."
   ]
  },
  {
   "cell_type": "code",
   "execution_count": null,
   "metadata": {},
   "outputs": [],
   "source": [
    "import requests\n",
    "import json\n",
    "from typing import List, Optional"
   ]
  },
  {
   "cell_type": "code",
   "execution_count": null,
   "metadata": {},
   "outputs": [],
   "source": [
    "class HighlightsClient:\n",
    "    def __init__(self, api_key: str, base_url: str = \"https://api.highlights.mk1.ai\"):\n",
    "        self.api_key = api_key\n",
    "        self.base_url = base_url\n",
    "        self.headers = {\n",
    "            \"Authorization\": f\"Bearer {api_key}\",\n",
    "            \"Content-Type\": \"application/json\"\n",
    "        }\n",
    "\n",
    "    def search_text_chunks(\n",
    "        self,\n",
    "        query: str,\n",
    "        text_chunks: List[str],\n",
    "        top_n: Optional[int] = 3\n",
    "    ) -> dict:\n",
    "        \"\"\"\n",
    "        Search through text chunks to find relevant passages.\n",
    "\n",
    "        Args:\n",
    "            query: The search query\n",
    "            text_chunks: List of text passages to search through\n",
    "            top_n: Number of top results to return\n",
    "\n",
    "        Returns:\n",
    "            Dictionary containing search results and metadata\n",
    "        \"\"\"\n",
    "        endpoint = f\"{self.base_url}/moonshine/search/text_chunks\"\n",
    "\n",
    "        payload = {\n",
    "            \"query\": query,\n",
    "            \"text_chunks\": text_chunks,\n",
    "            \"top_n\": top_n\n",
    "        }\n",
    "\n",
    "        response = requests.post(endpoint, headers=self.headers, json=payload)\n",
    "        response.raise_for_status()\n",
    "        return response.json()"
   ]
  },
  {
   "cell_type": "markdown",
   "metadata": {},
   "source": [
    "## Using the Client\n",
    "\n",
    "Now let's create an instance of our client. Replace 'your-api-key' with your actual API key from Highlights."
   ]
  },
  {
   "cell_type": "code",
   "execution_count": null,
   "metadata": {},
   "outputs": [],
   "source": [
    "# Initialize the client\n",
    "client = HighlightsClient(api_key=\"your-api-key\")"
   ]
  },
  {
   "cell_type": "markdown",
   "metadata": {},
   "source": [
    "## Preparing Sample Data\n",
    "\n",
    "Let's create some sample text chunks about machine learning and data science to search through."
   ]
  },
  {
   "cell_type": "code",
   "execution_count": null,
   "metadata": {},
   "outputs": [],
   "source": [
    "# Sample text chunks\n",
    "text_chunks = [\n",
    "    \"Machine learning models can process vast amounts of data quickly.\",\n",
    "    \"Natural language processing helps computers understand human language.\",\n",
    "    \"Deep learning is a subset of machine learning based on neural networks.\",\n",
    "    \"Data science combines statistics, programming, and domain expertise.\"\n",
    "]\n",
    "\n",
    "# Display our text chunks\n",
    "print(\"Available text chunks:\")\n",
    "for i, chunk in enumerate(text_chunks, 1):\n",
    "    print(f\"{i}. {chunk}\")"
   ]
  },
  {
   "cell_type": "markdown",
   "metadata": {},
   "source": [
    "## Performing a Search\n",
    "\n",
    "Now let's search through our text chunks with a query about machine learning. We'll request the top 2 most relevant results."
   ]
  },
  {
   "cell_type": "code",
   "execution_count": null,
   "metadata": {},
   "outputs": [],
   "source": [
    "# Perform the search\n",
    "results = client.search_text_chunks(\n",
    "    query=\"What is machine learning?\",\n",
    "    text_chunks=text_chunks,\n",
    "    top_n=2\n",
    ")\n",
    "\n",
    "# Display results in a formatted way\n",
    "print(\"Search Results:\")\n",
    "print(json.dumps(results, indent=2))"
   ]
  }
 ],
 "metadata": {
  "kernelspec": {
   "display_name": "Python 3",
   "language": "python",
   "name": "python3"
  },
  "language_info": {
   "codemirror_mode": {
    "name": "ipython",
    "version": 3
   },
   "file_extension": ".py",
   "mimetype": "text/x-python",
   "name": "python",
   "nbconvert_exporter": "python",
   "pygments_lexer": "ipython3",
   "version": "3.8.0"
  }
 },
 "nbformat": 4,
 "nbformat_minor": 4
}
