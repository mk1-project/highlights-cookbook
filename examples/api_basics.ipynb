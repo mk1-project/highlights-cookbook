{
 "cells": [
  {
   "cell_type": "markdown",
   "metadata": {},
   "source": [
    "# Highlights API Client Tutorial\n",
    "\n",
    "This notebook demonstrates how to use the Highlights API client to perform semantic search across text chunks. The client allows you to find relevant passages from a collection of text based on a natural language query.\n",
    "\n",
    "## Setup\n",
    "\n",
    "First, we'll import the required libraries and define our client class."
   ]
  },
  {
   "cell_type": "code",
   "execution_count": 1,
   "metadata": {},
   "outputs": [],
   "source": [
    "import requests\n",
    "import json\n",
    "from typing import List, Optional\n",
    "from base_client import HighlightsClient"
   ]
  },
  {
   "cell_type": "markdown",
   "metadata": {},
   "source": [
    "## Using the Client\n",
    "\n",
    "Now let's create an instance of our client. Replace 'your-api-key' with your actual API key from Highlights."
   ]
  },
  {
   "cell_type": "code",
   "execution_count": 3,
   "metadata": {},
   "outputs": [],
   "source": [
    "# Initialize the client\n",
    "client = HighlightsClient(api_key=\"your-api-key\")"
   ]
  },
  {
   "cell_type": "markdown",
   "metadata": {},
   "source": [
    "## Preparing Sample Data\n",
    "\n",
    "Let's create some sample text chunks about machine learning and data science to search through."
   ]
  },
  {
   "cell_type": "code",
   "execution_count": 4,
   "metadata": {},
   "outputs": [
    {
     "name": "stdout",
     "output_type": "stream",
     "text": [
      "Available text chunks:\n",
      "1. Machine learning models can process vast amounts of data quickly.\n",
      "2. Natural language processing helps computers understand human language.\n",
      "3. Deep learning is a subset of machine learning based on neural networks.\n",
      "4. Data science combines statistics, programming, and domain expertise.\n"
     ]
    }
   ],
   "source": [
    "# Sample text chunks\n",
    "text_chunks = [\n",
    "    \"Machine learning models can process vast amounts of data quickly.\",\n",
    "    \"Natural language processing helps computers understand human language.\",\n",
    "    \"Deep learning is a subset of machine learning based on neural networks.\",\n",
    "    \"Data science combines statistics, programming, and domain expertise.\"\n",
    "]\n",
    "\n",
    "# Display our text chunks\n",
    "print(\"Available text chunks:\")\n",
    "for i, chunk in enumerate(text_chunks, 1):\n",
    "    print(f\"{i}. {chunk}\")"
   ]
  },
  {
   "cell_type": "markdown",
   "metadata": {},
   "source": [
    "## Performing a Search\n",
    "\n",
    "Now let's search through our text chunks with a query about machine learning. We'll request the top 2 most relevant results."
   ]
  },
  {
   "cell_type": "code",
   "execution_count": 5,
   "metadata": {},
   "outputs": [
    {
     "name": "stdout",
     "output_type": "stream",
     "text": [
      "Search Results:\n",
      "{\n",
      "  \"results\": [\n",
      "    {\n",
      "      \"chunk_id\": 0,\n",
      "      \"chunk_txt\": \"Machine learning models can process vast amounts of data quickly.\",\n",
      "      \"chunk_score\": 136.13050842285156\n",
      "    },\n",
      "    {\n",
      "      \"chunk_id\": 2,\n",
      "      \"chunk_txt\": \"Deep learning is a subset of machine learning based on neural networks.\",\n",
      "      \"chunk_score\": 119.29242706298828\n",
      "    }\n",
      "  ],\n",
      "  \"metadata\": {\n",
      "    \"num_query_tokens\": 5,\n",
      "    \"num_context_tokens\": 44\n",
      "  }\n",
      "}\n"
     ]
    }
   ],
   "source": [
    "# Perform the search\n",
    "results = client.search_text_chunks(\n",
    "    query=\"What is machine learning?\",\n",
    "    text_chunks=text_chunks,\n",
    "    top_n=2\n",
    ")\n",
    "\n",
    "# Display results in a formatted way\n",
    "print(\"Search Results:\")\n",
    "print(json.dumps(results, indent=2))"
   ]
  }
 ],
 "metadata": {
  "kernelspec": {
   "display_name": "Python 3",
   "language": "python",
   "name": "python3"
  },
  "language_info": {
   "codemirror_mode": {
    "name": "ipython",
    "version": 3
   },
   "file_extension": ".py",
   "mimetype": "text/x-python",
   "name": "python",
   "nbconvert_exporter": "python",
   "pygments_lexer": "ipython3",
   "version": "3.10.12"
  }
 },
 "nbformat": 4,
 "nbformat_minor": 4
}
